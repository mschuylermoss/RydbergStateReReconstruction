{
 "cells": [
  {
   "cell_type": "code",
   "execution_count": 1,
   "id": "efd2fda4",
   "metadata": {},
   "outputs": [],
   "source": [
    "import numpy as np\n",
    "import tensorflow as tf"
   ]
  },
  {
   "cell_type": "code",
   "execution_count": 6,
   "id": "1238964b",
   "metadata": {},
   "outputs": [],
   "source": [
    "import sys\n",
    "sys.path.append('..')\n",
    "from OneD_RNN import OneD_RNN_wavefxn,RNNWavefunction1D\n"
   ]
  },
  {
   "cell_type": "code",
   "execution_count": 2,
   "id": "fa9c3f4d",
   "metadata": {},
   "outputs": [],
   "source": [
    "def optimizer_initializer(optimizer):\n",
    "    fake_var = tf.Variable(1.0)\n",
    "    with tf.GradientTape() as tape:\n",
    "        fake_loss = tf.reduce_sum(fake_var ** 2)\n",
    "    grads = tape.gradient(fake_loss, [fake_var])\n",
    "    # Ask the optimizer to apply the processed gradients.\n",
    "    optimizer.apply_gradients(zip(grads, [fake_var]))"
   ]
  },
  {
   "cell_type": "code",
   "execution_count": 13,
   "id": "806e8dd3",
   "metadata": {},
   "outputs": [
    {
     "name": "stdout",
     "output_type": "stream",
     "text": [
      "Not batching samples drawn from RNN, meaning batch size = 100\n"
     ]
    }
   ],
   "source": [
    " # ---- System Parameters -----------------------------------------------------------------\n",
    "Lx = 16\n",
    "Ly = 16\n",
    "V = 9\n",
    "delta = -1.545\n",
    "Omega = 4.24\n",
    "sweep_rate = 15\n",
    "\n",
    "# ---- RNN Parameters ---------------------------------------------------------------------\n",
    "num_hidden = 32\n",
    "learning_rate = 1e-3\n",
    "weight_sharing = True\n",
    "trunc = 100\n",
    "seed = 123\n",
    "rnn_type = 'OneD'\n",
    "\n",
    "# ---- Training Parameters ----------------------------------------------------------------\n",
    "ns = 100\n",
    "batch_samples = False\n",
    "if batch_samples:\n",
    "    batch_size_samples = config.get('batch_size_samples', 100)\n",
    "    print(f\"Batching samples drawn from RNN with batch size = {batch_size_samples}\")\n",
    "else:\n",
    "    batch_size_samples = ns\n",
    "    print(f\"Not batching samples drawn from RNN, meaning batch size = {ns}\")\n",
    "batch_size_data = 100\n",
    "data_epochs = 1000\n",
    "vmc_epochs = 1000\n",
    "total_epochs = data_epochs+vmc_epochs\n",
    "# data = data_given_param(sweep_rate,delta)\n",
    "# tf_dataset = create_KZ_tf_dataset(data)   \n",
    "global_step = tf.Variable(0, name=\"global_step\") "
   ]
  },
  {
   "cell_type": "code",
   "execution_count": 14,
   "id": "1c9d1acf",
   "metadata": {},
   "outputs": [
    {
     "name": "stdout",
     "output_type": "stream",
     "text": [
      "OneD RNN used in previous Rydberg project.\n",
      "gru_2/gru_cell_2/kernel:0 (192,)\n",
      "gru_2/gru_cell_2/recurrent_kernel:0 (3072,)\n",
      "gru_2/gru_cell_2/bias:0 (192,)\n",
      "dense_1/kernel:0 (64,)\n",
      "dense_1/bias:0 (2,)\n",
      "The sum of params is 3522\n"
     ]
    }
   ],
   "source": [
    "wavefxn = OneD_RNN_wavefxn(Lx,Ly,num_hidden,learning_rate,seed)"
   ]
  },
  {
   "cell_type": "code",
   "execution_count": 15,
   "id": "a902b28b",
   "metadata": {},
   "outputs": [],
   "source": [
    "exp_name = 'Test_new_checkpointing_1d'\n",
    "path = f'./data/N_{Lx*Ly}/{exp_name}/{rnn_type}_rnn/delta_{delta}'\n",
    "ckpt = tf.train.Checkpoint(step=global_step, optimizer=wavefxn.optimizer, variables=wavefxn.trainable_variables) # these are trackable objects - we get to specify\n",
    "manager = tf.train.CheckpointManager(ckpt, path, max_to_keep=1) # change 1 to None"
   ]
  },
  {
   "cell_type": "code",
   "execution_count": 16,
   "id": "e84452a0",
   "metadata": {},
   "outputs": [
    {
     "name": "stdout",
     "output_type": "stream",
     "text": [
      "1000\n"
     ]
    }
   ],
   "source": [
    "ckpt.restore(manager.latest_checkpoint)\n",
    "latest_ckpt = ckpt.step.numpy()\n",
    "print(latest_ckpt)"
   ]
  },
  {
   "cell_type": "code",
   "execution_count": 22,
   "id": "538e3ddb",
   "metadata": {},
   "outputs": [
    {
     "name": "stdout",
     "output_type": "stream",
     "text": [
      "350\n"
     ]
    }
   ],
   "source": [
    "ckpt.restore(manager.checkpoints[34])\n",
    "latest_ckpt = ckpt.step.numpy()\n",
    "print(latest_ckpt)"
   ]
  },
  {
   "cell_type": "code",
   "execution_count": 23,
   "id": "e71e2007",
   "metadata": {},
   "outputs": [
    {
     "data": {
      "text/plain": [
       "5"
      ]
     },
     "execution_count": 23,
     "metadata": {},
     "output_type": "execute_result"
    }
   ],
   "source": [
    "375%10"
   ]
  },
  {
   "cell_type": "code",
   "execution_count": 26,
   "id": "054ba30f",
   "metadata": {},
   "outputs": [],
   "source": [
    "step = 344\n",
    "index = int((step - (step%10))/10 - 1)"
   ]
  },
  {
   "cell_type": "code",
   "execution_count": 27,
   "id": "3540a7c4",
   "metadata": {},
   "outputs": [
    {
     "name": "stdout",
     "output_type": "stream",
     "text": [
      "33\n"
     ]
    }
   ],
   "source": [
    "print(index)"
   ]
  },
  {
   "cell_type": "code",
   "execution_count": 28,
   "id": "bd102225",
   "metadata": {},
   "outputs": [],
   "source": [
    "restart_point = 113\n",
    "index = int((restart_point-(restart_point%10))/10 -1)"
   ]
  },
  {
   "cell_type": "code",
   "execution_count": 29,
   "id": "fb51da18",
   "metadata": {},
   "outputs": [
    {
     "name": "stdout",
     "output_type": "stream",
     "text": [
      "10\n"
     ]
    }
   ],
   "source": [
    "print(index)"
   ]
  },
  {
   "cell_type": "code",
   "execution_count": 41,
   "id": "a00739e8",
   "metadata": {},
   "outputs": [
    {
     "name": "stdout",
     "output_type": "stream",
     "text": [
      "CKPT ON and ckpt 94 found.\n",
      "Restored from ./data/N_256/Test_new_checkpointing_1d/OneD_rnn/delta_-1.545/ckpt-95\n",
      "Continuing at step 950\n",
      "950\n"
     ]
    }
   ],
   "source": [
    "restart_point = 956\n",
    "index = int((restart_point-(restart_point%10))/10 - 1)\n",
    "if index < len(manager.checkpoints):\n",
    "    ckpt.restore(manager.checkpoints[index])\n",
    "    ckpt_found = True\n",
    "else:\n",
    "    manager.latest_checkpoint\n",
    "    ckpt_found = False\n",
    "if ckpt_found:\n",
    "    print(f\"CKPT ON and ckpt {index} found.\")\n",
    "    print(\"Restored from {}\".format(manager.checkpoints[index]))\n",
    "    ckpt_step = ckpt.step.numpy()\n",
    "    optimizer_initializer(wavefxn.optimizer)\n",
    "    print(f\"Continuing at step {ckpt.step.numpy()}\")\n",
    "    energy = np.load(path+'/Energy.npy').tolist()[0:ckpt_step]\n",
    "    variance = np.load(path+'/Variance.npy').tolist()[0:ckpt_step]\n",
    "    cost = np.load(path+'/Cost.npy').tolist()[0:ckpt_step]\n",
    "elif manager.latest_checkpoint:\n",
    "    ckpt.restore(manager.latest_checkpoint) \n",
    "    print(f\"CKPT ON but ckpt {index} not found.\")\n",
    "    print(\"Restored from {}\".format(manager.latest_checkpoint))\n",
    "    latest_ckpt = ckpt.step.numpy()\n",
    "    optimizer_initializer(wavefxn.optimizer)\n",
    "    print(f\"Continuing at step {ckpt.step.numpy()}\")\n",
    "    energy = np.load(path+'/Energy.npy').tolist()[0:latest_ckpt]\n",
    "    variance = np.load(path+'/Variance.npy').tolist()[0:latest_ckpt]\n",
    "    cost = np.load(path+'/Cost.npy').tolist()[0:latest_ckpt]\n",
    "else:\n",
    "    print(\"CKPT ON but no ckpt found. Initializing from scratch.\")\n",
    "    latest_ckpt = 0\n",
    "    energy = []\n",
    "    variance = []\n",
    "    cost = []"
   ]
  },
  {
   "cell_type": "code",
   "execution_count": 35,
   "id": "c8dbd571",
   "metadata": {},
   "outputs": [
    {
     "name": "stdout",
     "output_type": "stream",
     "text": [
      "./data/N_256/Test_new_checkpointing_1d/OneD_rnn/delta_-1.545/ckpt-97\n"
     ]
    }
   ],
   "source": [
    "print(manager.checkpoints[index])"
   ]
  },
  {
   "cell_type": "code",
   "execution_count": null,
   "id": "4c121476",
   "metadata": {},
   "outputs": [],
   "source": []
  }
 ],
 "metadata": {
  "kernelspec": {
   "display_name": "Python 3 (ipykernel)",
   "language": "python",
   "name": "python3"
  },
  "language_info": {
   "codemirror_mode": {
    "name": "ipython",
    "version": 3
   },
   "file_extension": ".py",
   "mimetype": "text/x-python",
   "name": "python",
   "nbconvert_exporter": "python",
   "pygments_lexer": "ipython3",
   "version": "3.9.12"
  }
 },
 "nbformat": 4,
 "nbformat_minor": 5
}
