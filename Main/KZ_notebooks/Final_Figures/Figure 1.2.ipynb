{
 "cells": [
  {
   "cell_type": "code",
   "execution_count": 1,
   "id": "a71ee6e2",
   "metadata": {},
   "outputs": [],
   "source": [
    "delta_m1545 = -1.545\n",
    "delta_4455 = 4.455\n",
    "delta_4955 = 4.955\n",
    "delta_13455 = 13.455\n",
    "d_m1545 = '-1.545'\n",
    "d_4455 = '4.455'\n",
    "d_4955 = '4.955'\n",
    "d_13455 = '13.455'"
   ]
  },
  {
   "cell_type": "code",
   "execution_count": 2,
   "id": "e18a01a9",
   "metadata": {},
   "outputs": [],
   "source": [
    "import numpy as np\n",
    "import matplotlib.pylab as plt\n",
    "import pandas as pd\n",
    "import seaborn as sns"
   ]
  },
  {
   "cell_type": "code",
   "execution_count": 3,
   "id": "2f525be1",
   "metadata": {},
   "outputs": [],
   "source": [
    "import sys\n",
    "sys.path.append('../..')\n",
    "from dset_helpers import load_KZ_QMC_uncorr_data_from_batches,data_given_param\n",
    "from stag_mag import calculate_stag_mag"
   ]
  },
  {
   "cell_type": "markdown",
   "id": "183a3d1a",
   "metadata": {},
   "source": [
    "# Load Data"
   ]
  },
  {
   "cell_type": "code",
   "execution_count": 4,
   "id": "151b10d3",
   "metadata": {},
   "outputs": [],
   "source": [
    "df = pd.read_csv('./../data/N_256/avg_observables.csv', sep=',')\n",
    "deltas = np.array(df[\"delta\"])\n",
    "energies = np.array(df[\"energy\"])\n",
    "e_errors = np.array(df[\"energy_error\"])\n",
    "chks = np.array(df[\"chk\"])\n",
    "chk_errors = np.array(df[\"chk_error\"])"
   ]
  },
  {
   "cell_type": "code",
   "execution_count": 5,
   "id": "e7356e87",
   "metadata": {},
   "outputs": [
    {
     "name": "stdout",
     "output_type": "stream",
     "text": [
      "(1000, 256)\n"
     ]
    }
   ],
   "source": [
    "QMC_data = load_KZ_QMC_uncorr_data_from_batches(-1.545,1000)\n",
    "print(np.shape(QMC_data))"
   ]
  },
  {
   "cell_type": "code",
   "execution_count": 8,
   "id": "822f3fcc",
   "metadata": {},
   "outputs": [
    {
     "name": "stdout",
     "output_type": "stream",
     "text": [
      "(1000, 256)\n"
     ]
    }
   ],
   "source": [
    "Exp_data = data_given_param(15,-1.545)\n",
    "shots = np.shape(Exp_data)[-1]\n",
    "Exp_data = np.reshape(Exp_data,(Lx**2,shots)).T\n",
    "print(np.shape(Exp_data))"
   ]
  },
  {
   "cell_type": "markdown",
   "id": "d42fbe2b",
   "metadata": {},
   "source": [
    "# Calculate Stag Mags from data"
   ]
  },
  {
   "cell_type": "code",
   "execution_count": 9,
   "id": "744af8a7",
   "metadata": {},
   "outputs": [],
   "source": [
    "Lx,Ly = 16,16"
   ]
  },
  {
   "cell_type": "code",
   "execution_count": 10,
   "id": "54e05e00",
   "metadata": {},
   "outputs": [],
   "source": [
    "QMC_data_stagmags = calculate_stag_mag(Lx,Ly,QMC_data)"
   ]
  },
  {
   "cell_type": "code",
   "execution_count": 11,
   "id": "1496e745",
   "metadata": {},
   "outputs": [],
   "source": [
    "Exp_data_stagmags = calculate_stag_mag(Lx,Ly,Exp_data)"
   ]
  },
  {
   "cell_type": "code",
   "execution_count": 12,
   "id": "cc03e42e",
   "metadata": {},
   "outputs": [],
   "source": [
    "deltas = np.arange(-1.545,13.5,0.5)\n",
    "qmc_stagmags = []\n",
    "qmc_vars = []\n",
    "exp_stagmags = []\n",
    "exp_vars = []\n",
    "\n",
    "for i in range(len(deltas)):\n",
    "    delta = float(\"{:.3f}\".format(deltas[i]))\n",
    "    Exp_data = data_given_param(15,delta)\n",
    "    Exp_data = np.reshape(Exp_data,(Lx**2,1000)).T\n",
    "    _,_,Exp_data_stagmag,expvar = calculate_stag_mag(Lx,Ly,Exp_data)\n",
    "    exp_stagmags.append(Exp_data_stagmag)\n",
    "    exp_vars.append(expvar)\n",
    "    \n",
    "deltas_lim = np.array([-1.545,4.455,4.955,13.455])\n",
    "for i in range(len(deltas_lim)):\n",
    "    delta_ = float(\"{:.3f}\".format(deltas_lim[i]))\n",
    "    QMC_data = load_KZ_QMC_uncorr_data_from_batches(delta_,1000)\n",
    "    _,_,QMC_data_stagmag,qmcvar = calculate_stag_mag(Lx,Ly,QMC_data)\n",
    "    qmc_stagmags.append(QMC_data_stagmag)\n",
    "    qmc_vars.append(qmcvar)\n"
   ]
  },
  {
   "cell_type": "code",
   "execution_count": 32,
   "id": "62289a9c",
   "metadata": {},
   "outputs": [],
   "source": [
    "np.save('./../data/N_256/Figure3/exp_stagmags_vars',exp_vars)"
   ]
  },
  {
   "cell_type": "markdown",
   "id": "0fd6b1b7",
   "metadata": {},
   "source": [
    "# Plot Stag Mags from data and QMC runs"
   ]
  },
  {
   "cell_type": "code",
   "execution_count": 45,
   "id": "90531ee8",
   "metadata": {},
   "outputs": [
    {
     "data": {
      "image/png": "[encoded data removed]",
      "text/plain": [
       "<Figure size 720x360 with 1 Axes>"
      ]
     },
     "metadata": {},
     "output_type": "display_data"
    }
   ],
   "source": [
    "fig = plt.figure(1,figsize=(6,3), dpi=120, facecolor='w', edgecolor='k')\n",
    "# plt.plot(deltas, chks, linestyle='None', marker='H', markerfacecolor='none', markeredgecolor='C6', markersize=5, linewidth=0.5, markeredgewidth=0.5, color='C6',label=\"QMC\")\n",
    "plt.errorbar(deltas, chks, yerr=chk_errors, marker='H', markerfacecolor='C3', markeredgecolor='C3', markersize=5, linewidth=0.5, alpha=0.6, linestyle='None', color='C3',label=\"QMC\")\n",
    "# plt.scatter(deltas_lim,qmc_stagmags,color='C3',label='QMC samples stag mags')\n",
    "# plt.errorbar(deltas_lim, qmc_stagmags, yerr=np.sqrt(qmc_vars),color='C3', ls='none')\n",
    "# plt.plot(deltas, exp_stagmags, linestyle='None', marker='s', markerfacecolor='none', markeredgecolor='C1', markersize=5, linewidth=0.5, markeredgewidth=0.5, color='C1',label=\"Experimental Data\")\n",
    "plt.errorbar(deltas, exp_stagmags, yerr=np.sqrt(exp_vars), marker='s', markerfacecolor='C1', markeredgecolor='C1', markersize=5, linewidth=0.6, alpha=0.6, linestyle='None', color='C1',label=\"Experimental Data\")\n",
    "plt.legend(loc='center', bbox_to_anchor=(0.21, 0.85),fontsize=10)\n",
    "# plt.title('Staggered Magnetization',fontsize=25)\n",
    "plt.ylabel('$\\\\langle m_{st} \\\\rangle$',fontsize=20)\n",
    "plt.xlabel('$\\\\delta$',fontsize=20)\n",
    "plt.show()"
   ]
  },
  {
   "cell_type": "code",
   "execution_count": null,
   "id": "7825b265",
   "metadata": {},
   "outputs": [],
   "source": []
  }
 ],
 "metadata": {
  "kernelspec": {
   "display_name": "Python 3 (ipykernel)",
   "language": "python",
   "name": "python3"
  },
  "language_info": {
   "codemirror_mode": {
    "name": "ipython",
    "version": 3
   },
   "file_extension": ".py",
   "mimetype": "text/x-python",
   "name": "python",
   "nbconvert_exporter": "python",
   "pygments_lexer": "ipython3",
   "version": "3.9.12"
  }
 },
 "nbformat": 4,
 "nbformat_minor": 5
}
