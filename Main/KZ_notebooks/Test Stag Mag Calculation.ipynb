{
 "cells": [
  {
   "cell_type": "code",
   "execution_count": 1,
   "id": "0b35b7cf",
   "metadata": {},
   "outputs": [],
   "source": [
    "import numpy as np\n",
    "import tensorflow as tf"
   ]
  },
  {
   "cell_type": "code",
   "execution_count": 2,
   "id": "bf75c65d",
   "metadata": {},
   "outputs": [],
   "source": [
    "import sys\n",
    "sys.path.append('..')\n",
    "from stag_mag import coord_to_site,generate_sublattices_square,calculate_stag_mag"
   ]
  },
  {
   "cell_type": "code",
   "execution_count": 3,
   "id": "c28a9144",
   "metadata": {},
   "outputs": [
    {
     "name": "stdout",
     "output_type": "stream",
     "text": [
      "y =  0 ; x =  0\n",
      "Site number is:  0\n",
      "y =  0 ; x =  1\n",
      "Site number is:  1\n",
      "y =  0 ; x =  2\n",
      "Site number is:  2\n",
      "y =  0 ; x =  3\n",
      "Site number is:  3\n",
      "y =  1 ; x =  0\n",
      "Site number is:  4\n",
      "y =  1 ; x =  1\n",
      "Site number is:  5\n",
      "y =  1 ; x =  2\n",
      "Site number is:  6\n",
      "y =  1 ; x =  3\n",
      "Site number is:  7\n",
      "y =  2 ; x =  0\n",
      "Site number is:  8\n",
      "y =  2 ; x =  1\n",
      "Site number is:  9\n",
      "y =  2 ; x =  2\n",
      "Site number is:  10\n",
      "y =  2 ; x =  3\n",
      "Site number is:  11\n",
      "y =  3 ; x =  0\n",
      "Site number is:  12\n",
      "y =  3 ; x =  1\n",
      "Site number is:  13\n",
      "y =  3 ; x =  2\n",
      "Site number is:  14\n",
      "y =  3 ; x =  3\n",
      "Site number is:  15\n",
      "Array view:\n",
      " [[ 0.  1.  2.  3.]\n",
      " [ 4.  5.  6.  7.]\n",
      " [ 8.  9. 10. 11.]\n",
      " [12. 13. 14. 15.]]\n"
     ]
    }
   ],
   "source": [
    "Lx = 4\n",
    "Ly = 4\n",
    "array = np.zeros((Lx,Ly))\n",
    "\n",
    "for i in range(Lx):\n",
    "    for j in range(Ly):\n",
    "        site = coord_to_site(Lx,i,j)\n",
    "        array[i,j] = site\n",
    "        print(\"y = \", i,\"; x = \",j)\n",
    "        print(\"Site number is: \",site)\n",
    "\n",
    "\n",
    "print(\"Array view:\\n\",array)"
   ]
  },
  {
   "cell_type": "code",
   "execution_count": 4,
   "id": "ad9940ec",
   "metadata": {},
   "outputs": [],
   "source": [
    "a_coords,b_coords,a_sites,b_sites = generate_sublattices_square(Lx,Ly)"
   ]
  },
  {
   "cell_type": "code",
   "execution_count": 5,
   "id": "e99ae786",
   "metadata": {},
   "outputs": [
    {
     "name": "stdout",
     "output_type": "stream",
     "text": [
      "a coordinates:\n",
      " [(0, 0), (0, 2), (1, 1), (1, 3), (2, 0), (2, 2), (3, 1), (3, 3)]\n",
      "a sites:\n",
      " [0, 2, 5, 7, 8, 10, 13, 15]\n",
      "b coordinates:\n",
      " [(0, 1), (0, 3), (1, 0), (1, 2), (2, 1), (2, 3), (3, 0), (3, 2)]\n",
      "b sites:\n",
      " [1, 3, 4, 6, 9, 11, 12, 14]\n"
     ]
    }
   ],
   "source": [
    "print(\"a coordinates:\\n\",a_coords)\n",
    "print(\"a sites:\\n\",a_sites)\n",
    "print(\"b coordinates:\\n\",b_coords)\n",
    "print(\"b sites:\\n\",b_sites)"
   ]
  },
  {
   "cell_type": "code",
   "execution_count": 6,
   "id": "da625e48",
   "metadata": {},
   "outputs": [],
   "source": [
    "allup = np.ones((5,Lx*Ly))\n",
    "alldown = np.zeros((1,Lx*Ly))"
   ]
  },
  {
   "cell_type": "code",
   "execution_count": 7,
   "id": "a142e838",
   "metadata": {},
   "outputs": [
    {
     "name": "stdout",
     "output_type": "stream",
     "text": [
      "[[1. 1. 1. 1. 1. 1. 1. 1. 1. 1. 1. 1. 1. 1. 1. 1.]\n",
      " [1. 1. 1. 1. 1. 1. 1. 1. 1. 1. 1. 1. 1. 1. 1. 1.]\n",
      " [1. 1. 1. 1. 1. 1. 1. 1. 1. 1. 1. 1. 1. 1. 1. 1.]\n",
      " [1. 1. 1. 1. 1. 1. 1. 1. 1. 1. 1. 1. 1. 1. 1. 1.]\n",
      " [1. 1. 1. 1. 1. 1. 1. 1. 1. 1. 1. 1. 1. 1. 1. 1.]]\n",
      "[[0. 0. 0. 0. 0. 0. 0. 0. 0. 0. 0. 0. 0. 0. 0. 0.]]\n"
     ]
    }
   ],
   "source": [
    "print(allup)\n",
    "print(alldown)"
   ]
  },
  {
   "cell_type": "code",
   "execution_count": 8,
   "id": "51e8b460",
   "metadata": {},
   "outputs": [
    {
     "name": "stdout",
     "output_type": "stream",
     "text": [
      "(array([0., 0., 0., 0., 0.]), 0.0, 0.0, 0.0)\n"
     ]
    }
   ],
   "source": [
    "print(calculate_stag_mag(Lx,Ly,allup))"
   ]
  },
  {
   "cell_type": "code",
   "execution_count": 9,
   "id": "35df9e21",
   "metadata": {},
   "outputs": [],
   "source": [
    "random = np.random.randint(0,2,(10,Lx*Ly))"
   ]
  },
  {
   "cell_type": "code",
   "execution_count": 10,
   "id": "823e61aa",
   "metadata": {},
   "outputs": [
    {
     "name": "stdout",
     "output_type": "stream",
     "text": [
      "[[1 0 1 0 0 0 1 0 1 0 1 0 1 0 0 0]\n",
      " [1 1 1 1 0 0 1 1 0 1 1 1 0 1 0 1]\n",
      " [0 1 1 1 1 0 1 1 1 0 0 0 0 0 1 0]\n",
      " [0 1 1 1 1 1 1 1 0 0 1 1 0 1 1 1]\n",
      " [1 1 1 0 1 0 0 0 1 1 0 0 0 0 1 0]\n",
      " [0 0 0 0 0 0 0 0 0 0 0 1 0 1 0 1]\n",
      " [1 0 0 1 1 1 1 1 0 0 0 0 0 0 1 0]\n",
      " [0 0 0 0 0 0 1 0 1 0 1 0 1 1 1 1]\n",
      " [0 1 0 1 0 1 0 0 0 0 1 0 1 1 0 1]\n",
      " [0 0 1 1 1 0 0 0 1 0 1 0 1 0 1 1]]\n"
     ]
    }
   ],
   "source": [
    "print(random)"
   ]
  },
  {
   "cell_type": "code",
   "execution_count": 11,
   "id": "c57d1eeb",
   "metadata": {},
   "outputs": [
    {
     "name": "stdout",
     "output_type": "stream",
     "text": [
      "(array([-0.125 , -0.0625,  0.125 ,  0.    ,  0.0625, -0.0625,  0.0625,\n",
      "       -0.0625, -0.0625,  0.    ]), -0.0125, 0.0625, 0.0053125)\n"
     ]
    }
   ],
   "source": [
    "print(calculate_stag_mag(Lx,Ly,random))"
   ]
  },
  {
   "cell_type": "markdown",
   "id": "a638cf02",
   "metadata": {},
   "source": [
    "seems correct"
   ]
  },
  {
   "cell_type": "code",
   "execution_count": 13,
   "id": "f7aae7d1",
   "metadata": {},
   "outputs": [
    {
     "name": "stdout",
     "output_type": "stream",
     "text": [
      "(array([-0.5]), -0.5, 0.5, 0.0)\n"
     ]
    }
   ],
   "source": [
    "sample = np.array([[1,0,1,0,0,1,0,1,1,0,1,0,0,1,0,1]])\n",
    "print(calculate_stag_mag(Lx,Ly,sample))"
   ]
  },
  {
   "cell_type": "code",
   "execution_count": 14,
   "id": "9e86f91f",
   "metadata": {},
   "outputs": [
    {
     "name": "stdout",
     "output_type": "stream",
     "text": [
      "[[1 0 1 0]\n",
      " [0 1 0 1]\n",
      " [1 0 1 0]\n",
      " [0 1 0 1]]\n"
     ]
    }
   ],
   "source": [
    "sample_array = np.reshape(sample,(Lx,Ly))\n",
    "print(sample_array)"
   ]
  },
  {
   "cell_type": "markdown",
   "id": "8d5a53e0",
   "metadata": {},
   "source": [
    "The above example shows that the stag mag for checkerboard phase should be 0.5"
   ]
  },
  {
   "cell_type": "code",
   "execution_count": 17,
   "id": "6d7bdfe2",
   "metadata": {},
   "outputs": [],
   "source": [
    "sample_flipped = -1*sample + 1\n",
    "sample_flipped_array = np.reshape(sample_flipped,(Lx,Ly))"
   ]
  },
  {
   "cell_type": "code",
   "execution_count": 18,
   "id": "1463aeec",
   "metadata": {},
   "outputs": [
    {
     "name": "stdout",
     "output_type": "stream",
     "text": [
      "[[0 1 0 1]\n",
      " [1 0 1 0]\n",
      " [0 1 0 1]\n",
      " [1 0 1 0]]\n"
     ]
    }
   ],
   "source": [
    "print(sample_flipped_array)"
   ]
  },
  {
   "cell_type": "code",
   "execution_count": 19,
   "id": "5e6ff5f0",
   "metadata": {},
   "outputs": [
    {
     "name": "stdout",
     "output_type": "stream",
     "text": [
      "(array([0.5]), 0.5, 0.5, 0.0)\n"
     ]
    }
   ],
   "source": [
    "print(calculate_stag_mag(Lx,Ly,sample_flipped))"
   ]
  },
  {
   "cell_type": "markdown",
   "id": "c5f6b878",
   "metadata": {},
   "source": [
    "So the absolute value of the staggered magnetization is 0.5 for the checkerboard phase"
   ]
  }
 ],
 "metadata": {
  "kernelspec": {
   "display_name": "Python 3 (ipykernel)",
   "language": "python",
   "name": "python3"
  },
  "language_info": {
   "codemirror_mode": {
    "name": "ipython",
    "version": 3
   },
   "file_extension": ".py",
   "mimetype": "text/x-python",
   "name": "python",
   "nbconvert_exporter": "python",
   "pygments_lexer": "ipython3",
   "version": "3.9.12"
  }
 },
 "nbformat": 4,
 "nbformat_minor": 5
}
