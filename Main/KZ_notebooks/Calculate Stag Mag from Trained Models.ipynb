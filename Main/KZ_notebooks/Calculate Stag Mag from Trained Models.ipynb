{
 "cells": [
  {
   "cell_type": "code",
   "execution_count": 8,
   "id": "172f6425",
   "metadata": {},
   "outputs": [],
   "source": [
    "import numpy as np\n",
    "import matplotlib.pylab as plt\n",
    "import sys\n",
    "sys.path.append('..')\n",
    "from stag_mag import coord_to_site,generate_sublattices_square,calculate_stag_mag"
   ]
  },
  {
   "cell_type": "code",
   "execution_count": 22,
   "id": "0e764c6d",
   "metadata": {},
   "outputs": [],
   "source": [
    "basepathm1545 = './data/N_256/delta_-1.545/'\n",
    "basepath4455 = './data/N_256/delta_4.455/'\n",
    "basepath4955 = './data/N_256/delta_4.955/'\n",
    "basepath13455 = './data/N_256/delta_13.455/'\n",
    "oneD = 'OneD_rnn/'\n",
    "twoD = 'TwoD_rnn/'\n",
    "VMC = 'ns100/'\n",
    "data1 = 'ns100_bs100/'\n",
    "data2 = 'ns100_bs100_10ksteps/'\n",
    "energy = 'Energy.npy'\n",
    "variance = 'Variance.npy'\n",
    "samples = 'Samples.npy'\n",
    "Lx = 16\n",
    "Ly = 16"
   ]
  },
  {
   "cell_type": "markdown",
   "id": "f45019c3",
   "metadata": {},
   "source": [
    "# Disordered Phase"
   ]
  },
  {
   "cell_type": "markdown",
   "id": "2650aa15",
   "metadata": {},
   "source": [
    "staggered magnetization should be small"
   ]
  },
  {
   "cell_type": "code",
   "execution_count": 27,
   "id": "3bbfceb6",
   "metadata": {},
   "outputs": [],
   "source": [
    "path1_m1545 = basepathm1545 + oneD\n",
    "path2_m1545 = basepathm1545 + twoD\n",
    "\n",
    "vmc_samples1_m1545 = np.load(path1_m1545+VMC+samples)\n",
    "vmc_samples2_m1545 = np.load(path2_m1545+VMC+samples)\n",
    "data_samples1_m1545 = np.load(path1_m1545+data1+samples)\n",
    "data_samples2_m1545 = np.load(path2_m1545+data2+samples)"
   ]
  },
  {
   "cell_type": "code",
   "execution_count": 36,
   "id": "e9f847d1",
   "metadata": {},
   "outputs": [
    {
     "name": "stdout",
     "output_type": "stream",
     "text": [
      "(10000, 256)\n"
     ]
    }
   ],
   "source": [
    "print(np.shape(vmc_samples1_13455))"
   ]
  },
  {
   "cell_type": "code",
   "execution_count": 30,
   "id": "e3702b0e",
   "metadata": {},
   "outputs": [
    {
     "name": "stdout",
     "output_type": "stream",
     "text": [
      "Staggered Magnetization of samples drawn from RNN's trained with VMC\n",
      "1D RNN:\n",
      " 0.01857734375\n",
      "2D RNN:\n",
      " 0.0195078125\n",
      "Staggered Magnetization of samples drawn from RNN's trained with experimental data\n",
      "1D RNN:\n",
      " 0.0198109375\n",
      "2D RNN:\n",
      " 0.020740234375\n"
     ]
    }
   ],
   "source": [
    "print(\"Staggered Magnetization of samples drawn from RNN's trained with VMC\")\n",
    "\n",
    "_,_,vmc_stag_mag1_disord,_ = calculate_stag_mag(Lx,Ly,vmc_samples1_m1545)\n",
    "print(\"1D RNN:\\n\",vmc_stag_mag1_disord)\n",
    "\n",
    "_,_,vmc_stag_mag2_disord,_ = calculate_stag_mag(Lx,Ly,vmc_samples2_m1545)\n",
    "print(\"2D RNN:\\n\",vmc_stag_mag2_disord)\n",
    "\n",
    "print(\"Staggered Magnetization of samples drawn from RNN's trained with experimental data\")\n",
    "\n",
    "_,_,data_stag_mag1_disord,_ = calculate_stag_mag(Lx,Ly,data_samples1_m1545)\n",
    "print(\"1D RNN:\\n\",data_stag_mag1_disord)\n",
    "\n",
    "_,_,data_stag_mag2_disord,_ = calculate_stag_mag(Lx,Ly,data_samples2_m1545)\n",
    "print(\"2D RNN:\\n\",data_stag_mag2_disord)"
   ]
  },
  {
   "cell_type": "markdown",
   "id": "c00323be",
   "metadata": {},
   "source": [
    "This makes sense I think..."
   ]
  },
  {
   "cell_type": "markdown",
   "id": "0c5d3c21",
   "metadata": {},
   "source": [
    "# Ordered Phase (checkerboard)"
   ]
  },
  {
   "cell_type": "markdown",
   "id": "ab3ee846",
   "metadata": {},
   "source": [
    "staggered magnetization should be 0.5"
   ]
  },
  {
   "cell_type": "code",
   "execution_count": 31,
   "id": "dd108917",
   "metadata": {},
   "outputs": [],
   "source": [
    "path1_13455 = basepath13455 + oneD\n",
    "path2_13455 = basepath13455 + twoD\n",
    "\n",
    "vmc_samples1_13455 = np.load(path1_13455+VMC+samples)\n",
    "vmc_samples2_13455 = np.load(path2_13455+VMC+samples)\n",
    "data_samples1_13455 = np.load(path1_13455+data1+samples)\n",
    "data_samples2_13455 = np.load(path2_13455+data2+samples)"
   ]
  },
  {
   "cell_type": "code",
   "execution_count": 32,
   "id": "31152e25",
   "metadata": {},
   "outputs": [
    {
     "name": "stdout",
     "output_type": "stream",
     "text": [
      "Staggered Magnetization of samples drawn from RNN's trained with VMC\n",
      "1D RNN:\n",
      " 0.03770703125\n",
      "2D RNN:\n",
      " 0.466319140625\n",
      "Staggered Magnetization of samples drawn from RNN's trained with experimental data\n",
      "1D RNN:\n",
      " 0.15928046875\n",
      "2D RNN:\n",
      " 0.202038671875\n"
     ]
    }
   ],
   "source": [
    "print(\"Staggered Magnetization of samples drawn from RNN's trained with VMC\")\n",
    "\n",
    "_,_,vmc_stag_mag1_ord,_ = calculate_stag_mag(Lx,Ly,vmc_samples1_13455)\n",
    "print(\"1D RNN:\\n\",vmc_stag_mag1_ord)\n",
    "\n",
    "_,_,vmc_stag_mag2_ord,_ = calculate_stag_mag(Lx,Ly,vmc_samples2_13455)\n",
    "print(\"2D RNN:\\n\",vmc_stag_mag2_ord)\n",
    "\n",
    "print(\"Staggered Magnetization of samples drawn from RNN's trained with experimental data\")\n",
    "\n",
    "_,_,data_stag_mag1_ord,_ = calculate_stag_mag(Lx,Ly,data_samples1_13455)\n",
    "print(\"1D RNN:\\n\",data_stag_mag1_ord)\n",
    "\n",
    "_,_,data_stag_mag2_ord,_ = calculate_stag_mag(Lx,Ly,data_samples2_13455)\n",
    "print(\"2D RNN:\\n\",data_stag_mag2_ord)"
   ]
  },
  {
   "cell_type": "markdown",
   "id": "740d8202",
   "metadata": {},
   "source": [
    "WOW!\n",
    "- Seems like 2D + VMC really nails the staggered magnetization\n",
    "- The data does seem to help in the both the 1D and 2D case, but not a lot"
   ]
  },
  {
   "cell_type": "markdown",
   "id": "07a42098",
   "metadata": {},
   "source": [
    "# What about near the phase transition?"
   ]
  },
  {
   "cell_type": "code",
   "execution_count": 33,
   "id": "16a49b3b",
   "metadata": {},
   "outputs": [],
   "source": [
    "path1_4455 = basepath4455 + oneD\n",
    "path2_4455 = basepath4455 + twoD\n",
    "\n",
    "vmc_samples1_4455 = np.load(path1_4455+VMC+samples)\n",
    "vmc_samples2_4455 = np.load(path2_4455+VMC+samples)\n",
    "data_samples1_4455 = np.load(path1_4455+data1+samples)\n",
    "data_samples2_4455 = np.load(path2_4455+data2+samples)\n",
    "\n",
    "path1_4955 = basepath4955 + oneD\n",
    "path2_4955 = basepath4955 + twoD\n",
    "\n",
    "vmc_samples1_4955 = np.load(path1_4955+VMC+samples)\n",
    "vmc_samples2_4955 = np.load(path2_4955+VMC+samples)\n",
    "data_samples1_4955 = np.load(path1_4955+data1+samples)\n",
    "data_samples2_4955 = np.load(path2_4955+data2+samples)"
   ]
  },
  {
   "cell_type": "code",
   "execution_count": 35,
   "id": "55df5614",
   "metadata": {},
   "outputs": [
    {
     "name": "stdout",
     "output_type": "stream",
     "text": [
      "Staggered Magnetization of samples drawn from RNN's trained with VMC\n",
      "1D RNN, below cp:\n",
      " 0.025886328125\n",
      "2D RNN, below cp:\n",
      " 0.118687890625\n",
      "Staggered Magnetization of samples drawn from RNN's trained with experimental data\n",
      "1D RNN, below cp:\n",
      " 0.04599140625\n",
      "2D RNN, below cp:\n",
      " 0.053792578125\n",
      "\n",
      "Staggered Magnetization of samples drawn from RNN's trained with VMC\n",
      "1D RNN, above cp:\n",
      " 0.026312109375\n",
      "2D RNN, above cp:\n",
      " 0.251686328125\n",
      "Staggered Magnetization of samples drawn from RNN's trained with experimental data\n",
      "1D RNN, above cp:\n",
      " 0.059707421875\n",
      "2D RNN, above cp:\n",
      " 0.062948046875\n"
     ]
    }
   ],
   "source": [
    "print(\"Staggered Magnetization of samples drawn from RNN's trained with VMC\")\n",
    "\n",
    "_,_,vmc_stag_mag1_below,_ = calculate_stag_mag(Lx,Ly,vmc_samples1_4455)\n",
    "print(\"1D RNN, below cp:\\n\",vmc_stag_mag1_below)\n",
    "\n",
    "_,_,vmc_stag_mag2_below,_ = calculate_stag_mag(Lx,Ly,vmc_samples2_4455)\n",
    "print(\"2D RNN, below cp:\\n\",vmc_stag_mag2_below)\n",
    "\n",
    "print(\"Staggered Magnetization of samples drawn from RNN's trained with experimental data\")\n",
    "\n",
    "_,_,data_stag_mag1_below,_ = calculate_stag_mag(Lx,Ly,data_samples1_4455)\n",
    "print(\"1D RNN, below cp:\\n\",data_stag_mag1_below)\n",
    "\n",
    "_,_,data_stag_mag2_below,_ = calculate_stag_mag(Lx,Ly,data_samples2_4455)\n",
    "print(\"2D RNN, below cp:\\n\",data_stag_mag2_below)\n",
    "\n",
    "print(\"\")\n",
    "print(\"Staggered Magnetization of samples drawn from RNN's trained with VMC\")\n",
    "\n",
    "_,_,vmc_stag_mag1_above,_ = calculate_stag_mag(Lx,Ly,vmc_samples1_4955)\n",
    "print(\"1D RNN, above cp:\\n\",vmc_stag_mag1_above)\n",
    "\n",
    "_,_,vmc_stag_mag2_above,_ = calculate_stag_mag(Lx,Ly,vmc_samples2_4955)\n",
    "print(\"2D RNN, above cp:\\n\",vmc_stag_mag2_above)\n",
    "\n",
    "print(\"Staggered Magnetization of samples drawn from RNN's trained with experimental data\")\n",
    "\n",
    "_,_,data_stag_mag1_above,_ = calculate_stag_mag(Lx,Ly,data_samples1_4955)\n",
    "print(\"1D RNN, above cp:\\n\",data_stag_mag1_above)\n",
    "\n",
    "_,_,data_stag_mag2_above,_ = calculate_stag_mag(Lx,Ly,data_samples2_4955)\n",
    "print(\"2D RNN, above cp:\\n\",data_stag_mag2_above)"
   ]
  },
  {
   "cell_type": "markdown",
   "id": "26652b8e",
   "metadata": {},
   "source": [
    "Again it seems like the models trained from data are not able to capture the correct staggered magnetization"
   ]
  },
  {
   "cell_type": "markdown",
   "id": "e61e2897",
   "metadata": {},
   "source": [
    "One thing we saw with MIS, when trained on data the model seemed to be learning the average occupation from the data, but nothing about where those occupations should be. That could be happening here too."
   ]
  },
  {
   "cell_type": "markdown",
   "id": "cb0352a1",
   "metadata": {},
   "source": [
    "# Look at the data for each delta"
   ]
  },
  {
   "cell_type": "markdown",
   "id": "784315a5",
   "metadata": {},
   "source": [
    "See \"Extract_data_of_interest\" notebook."
   ]
  }
 ],
 "metadata": {
  "kernelspec": {
   "display_name": "Python 3 (ipykernel)",
   "language": "python",
   "name": "python3"
  },
  "language_info": {
   "codemirror_mode": {
    "name": "ipython",
    "version": 3
   },
   "file_extension": ".py",
   "mimetype": "text/x-python",
   "name": "python",
   "nbconvert_exporter": "python",
   "pygments_lexer": "ipython3",
   "version": "3.9.12"
  }
 },
 "nbformat": 4,
 "nbformat_minor": 5
}
