{
 "cells": [
  {
   "cell_type": "code",
   "execution_count": 1,
   "id": "5821f9c1",
   "metadata": {},
   "outputs": [],
   "source": [
    "import sys\n",
    "sys.path.append('..')\n",
    "import numpy as np"
   ]
  },
  {
   "cell_type": "code",
   "execution_count": 2,
   "id": "bb293240",
   "metadata": {},
   "outputs": [],
   "source": [
    "from dset_helpers import bool_to_bin,data_given_param"
   ]
  },
  {
   "cell_type": "markdown",
   "id": "2a2aa49c",
   "metadata": {},
   "source": [
    "#### We will use sweep rate of 15 MHz so that the state prep is \"as adiabatic as possible\"... In theory this should be the best data."
   ]
  },
  {
   "cell_type": "code",
   "execution_count": 3,
   "id": "587795a4",
   "metadata": {},
   "outputs": [],
   "source": [
    "data_16x16_15MHz_per_us = np.load('../../KZ_Data/KZ_data_16x16_15_MHz_per_us.npz')"
   ]
  },
  {
   "cell_type": "code",
   "execution_count": 4,
   "id": "88d49c1f",
   "metadata": {},
   "outputs": [],
   "source": [
    "file_list_15 = data_16x16_15MHz_per_us.files"
   ]
  },
  {
   "cell_type": "code",
   "execution_count": 5,
   "id": "1265508f",
   "metadata": {},
   "outputs": [
    {
     "name": "stdout",
     "output_type": "stream",
     "text": [
      "params\n",
      "[-1.77948113 -1.6615566  -1.54363208 -1.42570755 -1.30778302 -1.18985849\n",
      " -1.07193396 -0.95400943 -0.83608491 -0.71816038 -0.60023585 -0.48231132\n",
      " -0.36438679 -0.24646226 -0.12853774 -0.01061321  0.10731132  0.22523585\n",
      "  0.34316038  0.46108491  0.57900943  0.69693396  0.81485849  0.93278302\n",
      "  1.05070755  1.16863208  1.2865566   1.40448113  1.52240566  1.64033019\n",
      "  1.75825472  1.87617925  1.99410377  2.1120283   2.22995283  2.34787736\n",
      "  2.46580189  2.58372642  2.70165094  2.81957547  2.9375      3.05542453\n",
      "  3.17334906  3.29127358  3.40919811  3.52712264  3.64504717  3.7629717 ]\n",
      "rydberg_data\n",
      "[[[[False False False ... False False False]\n",
      "   [False  True False ... False False False]\n",
      "   [False False False ... False False False]\n",
      "   ...\n",
      "   [ True  True  True ...  True  True  True]\n",
      "   [ True False False ...  True  True  True]\n",
      "   [ True  True  True ...  True  True  True]]\n",
      "\n",
      "  [[False False False ... False False False]\n",
      "   [False False False ... False False False]\n",
      "   [False False False ... False False  True]\n",
      "   ...\n",
      "   [False  True False ... False False False]\n",
      "   [ True  True False ...  True False False]\n",
      "   [ True  True False ... False False False]]\n",
      "\n",
      "  [[ True  True False ... False False False]\n",
      "   [ True False False ... False False False]\n",
      "   [False False False ...  True False False]\n",
      "   ...\n",
      "   [ True False  True ...  True  True  True]\n",
      "   [False False  True ...  True  True  True]\n",
      "   [False False  True ...  True  True  True]]\n",
      "\n",
      "  ...\n",
      "\n",
      "  [[False False False ... False False False]\n",
      "   [False False False ... False False False]\n",
      "   [False False False ... False False False]\n",
      "   ...\n",
      "   [False  True False ...  True  True  True]\n",
      "   [False  True False ... False  True  True]\n",
      "   [ True  True  True ...  True  True False]]\n",
      "\n",
      "  [[ True False False ... False False False]\n",
      "   [False False False ... False False False]\n",
      "   [False False False ... False False False]\n",
      "   ...\n",
      "   [False False False ...  True False False]\n",
      "   [ True False False ...  True False False]\n",
      "   [False False False ... False False  True]]\n",
      "\n",
      "  [[False False False ... False False False]\n",
      "   [False False False ... False False False]\n",
      "   [False False False ... False False  True]\n",
      "   ...\n",
      "   [ True False  True ... False  True  True]\n",
      "   [False  True  True ... False  True  True]\n",
      "   [ True  True  True ...  True  True  True]]]\n",
      "\n",
      "\n",
      " [[[False False False ... False  True False]\n",
      "   [False False False ... False False False]\n",
      "   [False False  True ... False False False]\n",
      "   ...\n",
      "   [False  True False ... False False False]\n",
      "   [ True False  True ...  True False False]\n",
      "   [False  True False ... False False False]]\n",
      "\n",
      "  [[False False False ... False False False]\n",
      "   [False False False ... False False False]\n",
      "   [False False False ... False False False]\n",
      "   ...\n",
      "   [ True False  True ...  True  True  True]\n",
      "   [False False False ... False  True  True]\n",
      "   [False False  True ...  True  True  True]]\n",
      "\n",
      "  [[False False False ... False False False]\n",
      "   [False False False ... False False False]\n",
      "   [False  True False ... False False False]\n",
      "   ...\n",
      "   [False  True False ... False False False]\n",
      "   [ True  True  True ...  True False False]\n",
      "   [ True  True False ... False False False]]\n",
      "\n",
      "  ...\n",
      "\n",
      "  [[False False False ... False False False]\n",
      "   [ True False False ...  True False False]\n",
      "   [False False False ... False False False]\n",
      "   ...\n",
      "   [False False  True ... False False False]\n",
      "   [ True False  True ...  True False False]\n",
      "   [False False False ... False False False]]\n",
      "\n",
      "  [[False False  True ... False False False]\n",
      "   [False False False ... False False False]\n",
      "   [False False False ... False False False]\n",
      "   ...\n",
      "   [ True False False ... False  True  True]\n",
      "   [False  True False ... False  True  True]\n",
      "   [False  True  True ...  True  True  True]]\n",
      "\n",
      "  [[False False False ... False False False]\n",
      "   [False False False ... False False False]\n",
      "   [False False False ... False False False]\n",
      "   ...\n",
      "   [False  True  True ...  True False False]\n",
      "   [ True False  True ...  True False False]\n",
      "   [ True  True False ... False False  True]]]\n",
      "\n",
      "\n",
      " [[[ True False  True ... False False False]\n",
      "   [False False  True ... False False False]\n",
      "   [False False False ... False False False]\n",
      "   ...\n",
      "   [ True False  True ...  True  True  True]\n",
      "   [False False False ... False  True  True]\n",
      "   [ True False  True ...  True  True  True]]\n",
      "\n",
      "  [[False False False ... False False False]\n",
      "   [False False  True ... False False False]\n",
      "   [False False False ... False False False]\n",
      "   ...\n",
      "   [False  True False ... False False False]\n",
      "   [ True False  True ...  True False False]\n",
      "   [False  True False ... False False False]]\n",
      "\n",
      "  [[False False False ... False False False]\n",
      "   [False False False ... False False False]\n",
      "   [False False False ... False False False]\n",
      "   ...\n",
      "   [False False  True ...  True  True  True]\n",
      "   [False False  True ... False  True  True]\n",
      "   [False False  True ...  True  True  True]]\n",
      "\n",
      "  ...\n",
      "\n",
      "  [[False False False ... False False False]\n",
      "   [False False False ... False False False]\n",
      "   [False False False ...  True False False]\n",
      "   ...\n",
      "   [ True False False ... False  True False]\n",
      "   [False  True False ... False False  True]\n",
      "   [ True  True False ...  True  True  True]]\n",
      "\n",
      "  [[False False False ...  True False False]\n",
      "   [False False False ... False False False]\n",
      "   [ True False False ... False False False]\n",
      "   ...\n",
      "   [False  True  True ...  True False False]\n",
      "   [ True  True  True ... False  True False]\n",
      "   [ True False  True ... False False False]]\n",
      "\n",
      "  [[False False False ... False False False]\n",
      "   [False False False ...  True False False]\n",
      "   [False False  True ...  True False False]\n",
      "   ...\n",
      "   [ True False  True ... False  True  True]\n",
      "   [False  True False ... False False  True]\n",
      "   [False  True False ...  True  True  True]]]\n",
      "\n",
      "\n",
      " ...\n",
      "\n",
      "\n",
      " [[[False False False ...  True False False]\n",
      "   [False False False ... False False  True]\n",
      "   [False False False ... False False False]\n",
      "   ...\n",
      "   [False  True  True ...  True  True False]\n",
      "   [False False False ... False  True False]\n",
      "   [False  True False ...  True  True False]]\n",
      "\n",
      "  [[False False False ...  True False False]\n",
      "   [False False False ... False False False]\n",
      "   [False False False ...  True False False]\n",
      "   ...\n",
      "   [ True  True  True ...  True False  True]\n",
      "   [ True  True  True ...  True False  True]\n",
      "   [ True False  True ... False False  True]]\n",
      "\n",
      "  [[False False False ... False False  True]\n",
      "   [False False False ... False False  True]\n",
      "   [False False False ... False False False]\n",
      "   ...\n",
      "   [False False False ... False  True False]\n",
      "   [False False False ... False  True False]\n",
      "   [False  True False ...  True  True False]]\n",
      "\n",
      "  ...\n",
      "\n",
      "  [[ True False  True ... False False False]\n",
      "   [ True False False ... False False  True]\n",
      "   [False False False ... False False False]\n",
      "   ...\n",
      "   [False  True  True ...  True  True  True]\n",
      "   [False  True  True ... False  True False]\n",
      "   [ True False  True ...  True  True  True]]\n",
      "\n",
      "  [[False False False ... False False False]\n",
      "   [False False False ... False False False]\n",
      "   [ True False False ... False False  True]\n",
      "   ...\n",
      "   [ True False False ... False False False]\n",
      "   [ True False False ... False False  True]\n",
      "   [False  True False ... False False False]]\n",
      "\n",
      "  [[False False False ... False  True False]\n",
      "   [False False  True ... False False False]\n",
      "   [False False False ... False False False]\n",
      "   ...\n",
      "   [ True  True  True ...  True  True False]\n",
      "   [False  True  True ...  True  True  True]\n",
      "   [ True False  True ...  True  True  True]]]\n",
      "\n",
      "\n",
      " [[[False False False ... False False False]\n",
      "   [False False False ...  True False False]\n",
      "   [False False False ... False False False]\n",
      "   ...\n",
      "   [ True False  True ... False False  True]\n",
      "   [ True  True  True ...  True False  True]\n",
      "   [ True  True False ... False  True  True]]\n",
      "\n",
      "  [[False False False ... False False False]\n",
      "   [False False False ... False False False]\n",
      "   [False  True False ... False False False]\n",
      "   ...\n",
      "   [False  True False ... False  True False]\n",
      "   [False False  True ... False  True False]\n",
      "   [False  True False ... False False False]]\n",
      "\n",
      "  [[False False False ... False False False]\n",
      "   [False False False ... False False False]\n",
      "   [False False False ... False  True False]\n",
      "   ...\n",
      "   [ True False  True ...  True False  True]\n",
      "   [ True  True  True ...  True False  True]\n",
      "   [ True False  True ... False  True  True]]\n",
      "\n",
      "  ...\n",
      "\n",
      "  [[False False False ... False False False]\n",
      "   [False False False ... False False False]\n",
      "   [False False False ... False  True False]\n",
      "   ...\n",
      "   [ True False False ... False False False]\n",
      "   [ True False False ...  True False  True]\n",
      "   [False False  True ... False False False]]\n",
      "\n",
      "  [[False False False ... False False False]\n",
      "   [False False False ... False False False]\n",
      "   [False False False ... False False False]\n",
      "   ...\n",
      "   [False  True  True ...  True False  True]\n",
      "   [False  True  True ... False  True  True]\n",
      "   [ True False  True ...  True  True  True]]\n",
      "\n",
      "  [[False False False ... False False False]\n",
      "   [False  True False ... False False False]\n",
      "   [False False False ...  True False False]\n",
      "   ...\n",
      "   [False  True False ... False False False]\n",
      "   [ True False False ...  True False False]\n",
      "   [False  True False ... False  True False]]]\n",
      "\n",
      "\n",
      " [[[False  True False ... False False False]\n",
      "   [False False False ... False False False]\n",
      "   [False False False ... False False False]\n",
      "   ...\n",
      "   [False  True False ...  True  True  True]\n",
      "   [ True False  True ... False  True False]\n",
      "   [False  True  True ...  True  True  True]]\n",
      "\n",
      "  [[False False False ...  True False False]\n",
      "   [False False False ... False False False]\n",
      "   [False False False ... False False False]\n",
      "   ...\n",
      "   [ True False False ...  True False False]\n",
      "   [ True  True False ...  True False  True]\n",
      "   [ True False  True ... False False  True]]\n",
      "\n",
      "  [[False False False ... False False False]\n",
      "   [False False False ... False False False]\n",
      "   [False  True False ... False False False]\n",
      "   ...\n",
      "   [False  True  True ... False  True False]\n",
      "   [False False False ... False  True False]\n",
      "   [False  True False ...  True  True False]]\n",
      "\n",
      "  ...\n",
      "\n",
      "  [[False False False ... False False False]\n",
      "   [False False False ... False False False]\n",
      "   [False False  True ... False False False]\n",
      "   ...\n",
      "   [False  True  True ...  True  True  True]\n",
      "   [False  True  True ... False  True False]\n",
      "   [ True False  True ...  True  True  True]]\n",
      "\n",
      "  [[False False False ... False False False]\n",
      "   [False False False ...  True False False]\n",
      "   [False False False ...  True False False]\n",
      "   ...\n",
      "   [ True False False ... False False False]\n",
      "   [ True False False ...  True False False]\n",
      "   [False  True False ... False  True False]]\n",
      "\n",
      "  [[False False False ... False False False]\n",
      "   [False False False ... False False False]\n",
      "   [ True  True False ... False False False]\n",
      "   ...\n",
      "   [ True  True  True ...  True  True  True]\n",
      "   [ True  True  True ...  True  True  True]\n",
      "   [ True  True  True ...  True  True  True]]]]\n",
      "rearrange_mask\n",
      "[[1. 0. 0. ... 0. 0. 0.]\n",
      " [0. 0. 0. ... 0. 0. 0.]\n",
      " [0. 0. 0. ... 0. 0. 0.]\n",
      " ...\n",
      " [0. 0. 0. ... 0. 0. 0.]\n",
      " [0. 0. 0. ... 0. 0. 0.]\n",
      " [0. 0. 0. ... 0. 0. 0.]]\n",
      "sweep_rate\n",
      "15.0\n",
      "rabi_freq\n",
      "4.24\n",
      "ryd_resonance\n",
      "-0.455\n"
     ]
    }
   ],
   "source": [
    "for file in file_list_15:\n",
    "    print(file)\n",
    "    print(data_16x16_15MHz_per_us[file])"
   ]
  },
  {
   "cell_type": "markdown",
   "id": "125c8be6",
   "metadata": {},
   "source": [
    "#### Choose the right \"params\" and associated data"
   ]
  },
  {
   "cell_type": "markdown",
   "id": "747ba8aa",
   "metadata": {},
   "source": [
    "The \"params\" file contains values for $\\frac{\\delta}{\\Omega}$ "
   ]
  },
  {
   "cell_type": "code",
   "execution_count": 6,
   "id": "d0f1f08a",
   "metadata": {
    "scrolled": true
   },
   "outputs": [
    {
     "name": "stdout",
     "output_type": "stream",
     "text": [
      "[-1.77948113 -1.6615566  -1.54363208 -1.42570755 -1.30778302 -1.18985849\n",
      " -1.07193396 -0.95400943 -0.83608491 -0.71816038 -0.60023585 -0.48231132\n",
      " -0.36438679 -0.24646226 -0.12853774 -0.01061321  0.10731132  0.22523585\n",
      "  0.34316038  0.46108491  0.57900943  0.69693396  0.81485849  0.93278302\n",
      "  1.05070755  1.16863208  1.2865566   1.40448113  1.52240566  1.64033019\n",
      "  1.75825472  1.87617925  1.99410377  2.1120283   2.22995283  2.34787736\n",
      "  2.46580189  2.58372642  2.70165094  2.81957547  2.9375      3.05542453\n",
      "  3.17334906  3.29127358  3.40919811  3.52712264  3.64504717  3.7629717 ]\n"
     ]
    }
   ],
   "source": [
    "print(data_16x16_15MHz_per_us['params'])"
   ]
  },
  {
   "cell_type": "markdown",
   "id": "a4ee0b2b",
   "metadata": {},
   "source": [
    "Note that the value for $\\Omega$ is also given, allowing us to determine $\\delta$."
   ]
  },
  {
   "cell_type": "code",
   "execution_count": 7,
   "id": "d5cd32b8",
   "metadata": {},
   "outputs": [
    {
     "name": "stdout",
     "output_type": "stream",
     "text": [
      "4.24\n"
     ]
    }
   ],
   "source": [
    "print(data_16x16_15MHz_per_us['rabi_freq'])"
   ]
  },
  {
   "cell_type": "code",
   "execution_count": 8,
   "id": "1d4cbb15",
   "metadata": {},
   "outputs": [],
   "source": [
    "deltas = data_16x16_15MHz_per_us['params']*data_16x16_15MHz_per_us['rabi_freq']"
   ]
  },
  {
   "cell_type": "code",
   "execution_count": 9,
   "id": "08835333",
   "metadata": {},
   "outputs": [
    {
     "name": "stdout",
     "output_type": "stream",
     "text": [
      "[-7.545 -7.045 -6.545 -6.045 -5.545 -5.045 -4.545 -4.045 -3.545 -3.045\n",
      " -2.545 -2.045 -1.545 -1.045 -0.545 -0.045  0.455  0.955  1.455  1.955\n",
      "  2.455  2.955  3.455  3.955  4.455  4.955  5.455  5.955  6.455  6.955\n",
      "  7.455  7.955  8.455  8.955  9.455  9.955 10.455 10.955 11.455 11.955\n",
      " 12.455 12.955 13.455 13.955 14.455 14.955 15.455 15.955]\n"
     ]
    }
   ],
   "source": [
    "print(deltas)"
   ]
  },
  {
   "cell_type": "markdown",
   "id": "69f51862",
   "metadata": {},
   "source": [
    "There is also a value called \"rydberg_resonance\" and we do not know what this means. I think it is some intrinsic resonance in the Rydberg atoms that compete with the lab-controlled delta. Notice what happens when you add this rydberg resonance to the deltas above."
   ]
  },
  {
   "cell_type": "code",
   "execution_count": 10,
   "id": "05637787",
   "metadata": {},
   "outputs": [],
   "source": [
    "lab_deltas = deltas+data_16x16_15MHz_per_us['ryd_resonance']"
   ]
  },
  {
   "cell_type": "code",
   "execution_count": 11,
   "id": "c7564921",
   "metadata": {},
   "outputs": [
    {
     "name": "stdout",
     "output_type": "stream",
     "text": [
      "[-8.  -7.5 -7.  -6.5 -6.  -5.5 -5.  -4.5 -4.  -3.5 -3.  -2.5 -2.  -1.5\n",
      " -1.  -0.5  0.   0.5  1.   1.5  2.   2.5  3.   3.5  4.   4.5  5.   5.5\n",
      "  6.   6.5  7.   7.5  8.   8.5  9.   9.5 10.  10.5 11.  11.5 12.  12.5\n",
      " 13.  13.5 14.  14.5 15.  15.5]\n"
     ]
    }
   ],
   "source": [
    "print(lab_deltas)"
   ]
  },
  {
   "cell_type": "markdown",
   "id": "bbe7b2dc",
   "metadata": {},
   "source": [
    "These are nice clean numbers, so I think this is the lab-controlled detuning and then they take into account (subtract out) the rydberg resonance which competes with delta. The \"net delta\" is the one that comes directly from params... we think..."
   ]
  },
  {
   "cell_type": "markdown",
   "id": "4e34236c",
   "metadata": {},
   "source": [
    "# The paper gives $\\frac{\\delta_c}{\\Omega} = 1.12(4)$ !"
   ]
  },
  {
   "cell_type": "markdown",
   "id": "7e8fa02d",
   "metadata": {},
   "source": [
    "So we want to take some critical delta (as close to this as possible) and then two values that are on either side of this critical point (considerably far away to be clearly in the \"ordered/disordered phases\"."
   ]
  },
  {
   "cell_type": "markdown",
   "id": "e6baaa92",
   "metadata": {},
   "source": [
    "Looking at the values above, we can see that there are two values of $\\frac{\\delta}{\\Omega}$ close to the critical point and they are:"
   ]
  },
  {
   "cell_type": "code",
   "execution_count": 12,
   "id": "2e616361",
   "metadata": {
    "scrolled": true
   },
   "outputs": [
    {
     "name": "stdout",
     "output_type": "stream",
     "text": [
      "1.0507075471698113  and  1.1686320754716981\n"
     ]
    }
   ],
   "source": [
    "print(data_16x16_15MHz_per_us['params'][24],' and ',data_16x16_15MHz_per_us['params'][25])"
   ]
  },
  {
   "cell_type": "markdown",
   "id": "4d496098",
   "metadata": {},
   "source": [
    "The associated values of delta are:"
   ]
  },
  {
   "cell_type": "code",
   "execution_count": 13,
   "id": "bce42d37",
   "metadata": {},
   "outputs": [
    {
     "name": "stdout",
     "output_type": "stream",
     "text": [
      "4.455  and  4.955\n"
     ]
    }
   ],
   "source": [
    "delta_midlow = data_16x16_15MHz_per_us['params'][24]*data_16x16_15MHz_per_us['rabi_freq']\n",
    "delta_midhigh = data_16x16_15MHz_per_us['params'][25]*data_16x16_15MHz_per_us['rabi_freq']\n",
    "print(delta_midlow,' and ',delta_midhigh)"
   ]
  },
  {
   "cell_type": "markdown",
   "id": "accaac95",
   "metadata": {},
   "source": [
    "It is worth noting that the this slower sweep rate has extra values in params (48 vs 24) and so there is no data corresponding to the second param above for the other sweep rates! For the values of params that we choose for the ordered and disordered phases, it might be worth choosing values of $\\frac{\\delta}{\\Omega}$ that appear in the data for other sweep rates too. At the end of the day it probably doesnt matter too much."
   ]
  },
  {
   "cell_type": "markdown",
   "id": "ebb9eb8e",
   "metadata": {},
   "source": [
    "For the lower param value:"
   ]
  },
  {
   "cell_type": "code",
   "execution_count": 14,
   "id": "ece4afa0",
   "metadata": {},
   "outputs": [
    {
     "name": "stdout",
     "output_type": "stream",
     "text": [
      "-0.3643867924528302\n"
     ]
    }
   ],
   "source": [
    "print(data_16x16_15MHz_per_us['params'][12])"
   ]
  },
  {
   "cell_type": "markdown",
   "id": "e49085cf",
   "metadata": {},
   "source": [
    "The associated value of delta is:"
   ]
  },
  {
   "cell_type": "code",
   "execution_count": 15,
   "id": "a1cfaed7",
   "metadata": {},
   "outputs": [
    {
     "name": "stdout",
     "output_type": "stream",
     "text": [
      "-1.545\n"
     ]
    }
   ],
   "source": [
    "delta_low = data_16x16_15MHz_per_us['params'][12]*data_16x16_15MHz_per_us['rabi_freq']\n",
    "print(delta_low)"
   ]
  },
  {
   "cell_type": "markdown",
   "id": "81c207c3",
   "metadata": {},
   "source": [
    "And for the higher param value:"
   ]
  },
  {
   "cell_type": "code",
   "execution_count": 16,
   "id": "341945db",
   "metadata": {
    "scrolled": true
   },
   "outputs": [
    {
     "name": "stdout",
     "output_type": "stream",
     "text": [
      "3.1733490566037736\n"
     ]
    }
   ],
   "source": [
    "print(data_16x16_15MHz_per_us['params'][42])"
   ]
  },
  {
   "cell_type": "markdown",
   "id": "db52d877",
   "metadata": {},
   "source": [
    "The associated value of delta is:"
   ]
  },
  {
   "cell_type": "code",
   "execution_count": 17,
   "id": "34333d3b",
   "metadata": {},
   "outputs": [
    {
     "name": "stdout",
     "output_type": "stream",
     "text": [
      "13.455\n"
     ]
    }
   ],
   "source": [
    "print(data_16x16_15MHz_per_us['params'][42]*data_16x16_15MHz_per_us['rabi_freq'])"
   ]
  },
  {
   "cell_type": "markdown",
   "id": "91d766f3",
   "metadata": {},
   "source": [
    "Now lets save these values:"
   ]
  },
  {
   "cell_type": "code",
   "execution_count": 59,
   "id": "77bed17b",
   "metadata": {},
   "outputs": [],
   "source": [
    "low_param = data_16x16_15MHz_per_us['params'][12]\n",
    "midlow_param = data_16x16_15MHz_per_us['params'][24]\n",
    "midhigh_param = data_16x16_15MHz_per_us['params'][25]\n",
    "high_param = data_16x16_15MHz_per_us['params'][42]\n",
    "highest = data_16x16_15MHz_per_us['params'][47]"
   ]
  },
  {
   "cell_type": "markdown",
   "id": "1062b9e1",
   "metadata": {},
   "source": [
    "# To reiterate, our values of $\\frac{\\delta}{\\Omega}$ are: -0.36438, 1.05070, 1.16863, and 3.17334"
   ]
  },
  {
   "cell_type": "markdown",
   "id": "cee8c5f8",
   "metadata": {},
   "source": [
    "This means "
   ]
  },
  {
   "cell_type": "markdown",
   "id": "add9c563",
   "metadata": {},
   "source": [
    "#### Now we want to isolate the data associated with these parameters"
   ]
  },
  {
   "cell_type": "code",
   "execution_count": 19,
   "id": "bc44df1e",
   "metadata": {},
   "outputs": [],
   "source": [
    "low_param_index = np.where(data_16x16_15MHz_per_us['params']==low_param)[0]"
   ]
  },
  {
   "cell_type": "code",
   "execution_count": 20,
   "id": "360213e6",
   "metadata": {},
   "outputs": [
    {
     "name": "stdout",
     "output_type": "stream",
     "text": [
      "This low value of param \n"
     ]
    }
   ],
   "source": [
    "print(\"This low value of param \")"
   ]
  },
  {
   "cell_type": "code",
   "execution_count": 21,
   "id": "2126c4fd",
   "metadata": {},
   "outputs": [],
   "source": [
    "data_low_param = data_16x16_15MHz_per_us['rydberg_data'][:,:,low_param_index,:]\n",
    "data_low_param = bool_to_bin(data_low_param)"
   ]
  },
  {
   "cell_type": "code",
   "execution_count": 22,
   "id": "17854f97",
   "metadata": {},
   "outputs": [
    {
     "name": "stdout",
     "output_type": "stream",
     "text": [
      "(16, 16, 1, 1000)\n"
     ]
    }
   ],
   "source": [
    "print(np.shape(data_low_param))"
   ]
  },
  {
   "cell_type": "code",
   "execution_count": 23,
   "id": "143bfda8",
   "metadata": {},
   "outputs": [],
   "source": [
    "midlow_param_index = np.where(data_16x16_15MHz_per_us['params']==midlow_param)[0]"
   ]
  },
  {
   "cell_type": "code",
   "execution_count": 24,
   "id": "73c37831",
   "metadata": {},
   "outputs": [],
   "source": [
    "data_midlow_param = data_16x16_15MHz_per_us['rydberg_data'][:,:,midlow_param_index,:]\n",
    "data_midlow_param = bool_to_bin(data_midlow_param)"
   ]
  },
  {
   "cell_type": "code",
   "execution_count": 25,
   "id": "c28f5770",
   "metadata": {},
   "outputs": [
    {
     "name": "stdout",
     "output_type": "stream",
     "text": [
      "(16, 16, 1, 1000)\n"
     ]
    }
   ],
   "source": [
    "print(np.shape(data_midlow_param))"
   ]
  },
  {
   "cell_type": "code",
   "execution_count": 26,
   "id": "0d3ad56f",
   "metadata": {},
   "outputs": [],
   "source": [
    "midhigh_param_index = np.where(data_16x16_15MHz_per_us['params']==midhigh_param)[0]"
   ]
  },
  {
   "cell_type": "code",
   "execution_count": 27,
   "id": "34d0ef9b",
   "metadata": {},
   "outputs": [],
   "source": [
    "data_midhigh_param = data_16x16_15MHz_per_us['rydberg_data'][:,:,midhigh_param_index,:]\n",
    "data_midhigh_param = bool_to_bin(data_midhigh_param)"
   ]
  },
  {
   "cell_type": "code",
   "execution_count": 28,
   "id": "05685765",
   "metadata": {},
   "outputs": [
    {
     "name": "stdout",
     "output_type": "stream",
     "text": [
      "(16, 16, 1, 1000)\n"
     ]
    }
   ],
   "source": [
    "print(np.shape(data_midhigh_param))"
   ]
  },
  {
   "cell_type": "code",
   "execution_count": 61,
   "id": "5ae89292",
   "metadata": {},
   "outputs": [],
   "source": [
    "high_param_index = np.where(data_16x16_15MHz_per_us['params']==high_param)[0]"
   ]
  },
  {
   "cell_type": "code",
   "execution_count": 62,
   "id": "ecb0e71f",
   "metadata": {},
   "outputs": [],
   "source": [
    "data_high_param = data_16x16_15MHz_per_us['rydberg_data'][:,:,high_param_index,:]\n",
    "data_high_param = bool_to_bin(data_high_param)"
   ]
  },
  {
   "cell_type": "code",
   "execution_count": 63,
   "id": "d360abf7",
   "metadata": {},
   "outputs": [
    {
     "name": "stdout",
     "output_type": "stream",
     "text": [
      "(16, 16, 1, 1000)\n"
     ]
    }
   ],
   "source": [
    "print(np.shape(data_high_param))"
   ]
  },
  {
   "cell_type": "markdown",
   "id": "f92f294c",
   "metadata": {},
   "source": [
    "So now we have 16x16 data for each of these four values of $\\frac{\\delta}{\\Omega}$! Each experiment was run 1000 times, so essentially we have 1000 shots for each of these sets of parameters."
   ]
  },
  {
   "cell_type": "code",
   "execution_count": 70,
   "id": "f867d821",
   "metadata": {},
   "outputs": [
    {
     "name": "stdout",
     "output_type": "stream",
     "text": [
      "(16, 16, 1000)\n"
     ]
    }
   ],
   "source": [
    "data_highest = data_16x16_15MHz_per_us['rydberg_data'][:,:,-1,:]\n",
    "data_highest= bool_to_bin(data_highest)\n",
    "print(np.shape(data_highest))"
   ]
  },
  {
   "cell_type": "markdown",
   "id": "25c94b5f",
   "metadata": {},
   "source": [
    "## Write script to do all of the above with one call"
   ]
  },
  {
   "cell_type": "markdown",
   "id": "b049d278",
   "metadata": {},
   "source": [
    "something broke here, not sure what... I think I maybe changed the directory my script looks in to get the data."
   ]
  },
  {
   "cell_type": "code",
   "execution_count": 32,
   "id": "77afce62",
   "metadata": {},
   "outputs": [
    {
     "name": "stdout",
     "output_type": "stream",
     "text": [
      "This is not a valid value of delta!\n"
     ]
    }
   ],
   "source": [
    "data_test_high = data_given_param(15,3.17334906)"
   ]
  },
  {
   "cell_type": "markdown",
   "id": "479f742d",
   "metadata": {},
   "source": [
    "print(np.mean(abs(data_test_high-data_high_param)))"
   ]
  },
  {
   "cell_type": "markdown",
   "id": "638ed329",
   "metadata": {},
   "source": [
    "which means the above datasets match! Yay!"
   ]
  },
  {
   "cell_type": "markdown",
   "id": "bcf43d71",
   "metadata": {},
   "source": [
    "# Look at actual rydberg data for each value of delta"
   ]
  },
  {
   "cell_type": "markdown",
   "id": "ad62b17f",
   "metadata": {},
   "source": [
    "Calculate stag mag for these datasets"
   ]
  },
  {
   "cell_type": "code",
   "execution_count": 33,
   "id": "2bd84f5f",
   "metadata": {},
   "outputs": [],
   "source": [
    "import sys\n",
    "sys.path.append('..')\n",
    "from stag_mag import coord_to_site,generate_sublattices_square,calculate_stag_mag"
   ]
  },
  {
   "cell_type": "markdown",
   "id": "191f648c",
   "metadata": {},
   "source": [
    "### Mean occupation"
   ]
  },
  {
   "cell_type": "code",
   "execution_count": 34,
   "id": "044c7032",
   "metadata": {},
   "outputs": [
    {
     "name": "stdout",
     "output_type": "stream",
     "text": [
      "0.14557421875\n"
     ]
    }
   ],
   "source": [
    "print(np.mean(data_low_param))"
   ]
  },
  {
   "cell_type": "markdown",
   "id": "1f709032",
   "metadata": {},
   "source": [
    "low because in the disordered regime where energy is penalized if a rydberg atom is occupied"
   ]
  },
  {
   "cell_type": "code",
   "execution_count": 35,
   "id": "eb3be65b",
   "metadata": {},
   "outputs": [
    {
     "name": "stdout",
     "output_type": "stream",
     "text": [
      "0.47578515625\n"
     ]
    }
   ],
   "source": [
    "print(np.mean(data_high_param))"
   ]
  },
  {
   "cell_type": "markdown",
   "id": "6ca0fe93",
   "metadata": {},
   "source": [
    "close to 1/2 because in the checkerboard regime"
   ]
  },
  {
   "cell_type": "code",
   "execution_count": 36,
   "id": "29527f36",
   "metadata": {},
   "outputs": [
    {
     "name": "stdout",
     "output_type": "stream",
     "text": [
      "0.295046875\n"
     ]
    }
   ],
   "source": [
    "print(np.mean(data_midlow_param))"
   ]
  },
  {
   "cell_type": "code",
   "execution_count": 37,
   "id": "c78b4ffd",
   "metadata": {},
   "outputs": [
    {
     "name": "stdout",
     "output_type": "stream",
     "text": [
      "0.30913671875\n"
     ]
    }
   ],
   "source": [
    "print(np.mean(data_midhigh_param))"
   ]
  },
  {
   "cell_type": "markdown",
   "id": "a05daed3",
   "metadata": {},
   "source": [
    "this is consistent"
   ]
  },
  {
   "cell_type": "markdown",
   "id": "600d6549",
   "metadata": {},
   "source": [
    "### Stag Mag"
   ]
  },
  {
   "cell_type": "code",
   "execution_count": 46,
   "id": "5103d860",
   "metadata": {},
   "outputs": [
    {
     "name": "stdout",
     "output_type": "stream",
     "text": [
      "(16, 16, 1, 1000)\n",
      "30\n"
     ]
    }
   ],
   "source": [
    "print(np.shape(data_low_param))\n",
    "print(np.sum(data_low_param[:,:,:,119]))"
   ]
  },
  {
   "cell_type": "markdown",
   "id": "6a674378",
   "metadata": {},
   "source": [
    "Need to reshape to be in correct format for stag mag calculation. Should be (nsamples, natoms)"
   ]
  },
  {
   "cell_type": "code",
   "execution_count": 53,
   "id": "455ef4e0",
   "metadata": {},
   "outputs": [],
   "source": [
    "Lx,Ly,_,nsamples = np.shape(data_low_param)\n",
    "data_low_param_new = np.reshape(data_low_param,(Lx,Ly,nsamples))\n",
    "data_low_param_new = np.reshape(data_low_param_new,(Lx*Ly,nsamples))\n",
    "data_low_param_new = data_low_param_new.T\n",
    "\n",
    "data_midlow_param_new = np.reshape(data_midlow_param,(Lx,Ly,nsamples))\n",
    "data_midlow_param_new = np.reshape(data_midlow_param_new,(Lx*Ly,nsamples))\n",
    "data_midlow_param_new = data_midlow_param_new.T\n",
    "\n",
    "data_midhigh_param_new = np.reshape(data_midhigh_param,(Lx,Ly,nsamples))\n",
    "data_midhigh_param_new = np.reshape(data_midhigh_param_new,(Lx*Ly,nsamples))\n",
    "data_midhigh_param_new = data_midhigh_param_new.T\n",
    "\n",
    "data_high_param_new = np.reshape(data_high_param,(Lx,Ly,nsamples))\n",
    "data_high_param_new = np.reshape(data_high_param_new,(Lx*Ly,nsamples))\n",
    "data_high_param_new = data_high_param_new.T"
   ]
  },
  {
   "cell_type": "code",
   "execution_count": 58,
   "id": "df6bed50",
   "metadata": {},
   "outputs": [
    {
     "name": "stdout",
     "output_type": "stream",
     "text": [
      "The average staggered magnetization of the samples in the experimental dataset\n",
      "delta = -1.545:\n",
      " 0.02093359375\n",
      "delta = 4.455:\n",
      " 0.049703125\n",
      "delta = 4.955:\n",
      " 0.05774609375\n",
      "delta = 13.455:\n",
      " 0.17921484375\n"
     ]
    }
   ],
   "source": [
    "print(\"The average staggered magnetization of the samples in the experimental dataset\")\n",
    "_,_,stagmag_low,_ = calculate_stag_mag(Lx,Ly,data_low_param_new)\n",
    "_,_,stagmag_midlow,_ = calculate_stag_mag(Lx,Ly,data_midlow_param_new)\n",
    "_,_,stagmag_midhigh,_ = calculate_stag_mag(Lx,Ly,data_midhigh_param_new)\n",
    "_,_,stagmag_high,_ = calculate_stag_mag(Lx,Ly,data_high_param_new)\n",
    "print(\"delta = -1.545:\\n\",stagmag_low)\n",
    "print(\"delta = 4.455:\\n\",stagmag_midlow)\n",
    "print(\"delta = 4.955:\\n\",stagmag_midhigh)\n",
    "print(\"delta = 13.455:\\n\",stagmag_high)"
   ]
  },
  {
   "cell_type": "markdown",
   "id": "e9d81458",
   "metadata": {},
   "source": [
    "This is interesting... The noise in the data could be very high..."
   ]
  },
  {
   "cell_type": "markdown",
   "id": "c32496ce",
   "metadata": {},
   "source": [
    "Check the largest value of delta tested (delta = 15.955)"
   ]
  },
  {
   "cell_type": "code",
   "execution_count": 65,
   "id": "332c8ebb",
   "metadata": {},
   "outputs": [],
   "source": [
    "data_highest_new = np.reshape(data_highest,(Lx,Ly,nsamples))\n",
    "data_highest_new = np.reshape(data_highest_new,(Lx*Ly,nsamples))\n",
    "data_highest_new = data_highest_new.T"
   ]
  },
  {
   "cell_type": "code",
   "execution_count": 66,
   "id": "a8356e05",
   "metadata": {},
   "outputs": [
    {
     "name": "stdout",
     "output_type": "stream",
     "text": [
      "staggered magnetization for delta = 15.955:\n",
      " 0.18088671875\n"
     ]
    }
   ],
   "source": [
    "_,_,stagmag_highest,_ = calculate_stag_mag(Lx,Ly,data_highest_new)\n",
    "print(\"staggered magnetization for delta = 15.955:\\n\",stagmag_highest)"
   ]
  },
  {
   "cell_type": "markdown",
   "id": "0a04ca86",
   "metadata": {},
   "source": [
    "not much better..."
   ]
  },
  {
   "cell_type": "markdown",
   "id": "8f9a186b",
   "metadata": {},
   "source": [
    "### Maybe try visualizing the data?"
   ]
  },
  {
   "cell_type": "code",
   "execution_count": 72,
   "id": "9e39452b",
   "metadata": {},
   "outputs": [
    {
     "name": "stdout",
     "output_type": "stream",
     "text": [
      "[[0 1 0 1 1 1 0 1 0 1 0 1 1 0 0 1]\n",
      " [1 0 1 0 1 0 1 0 1 0 1 0 0 1 1 0]\n",
      " [1 0 0 1 0 0 0 1 0 1 0 1 0 1 0 1]\n",
      " [0 1 0 1 0 0 1 0 1 0 1 1 1 0 1 0]\n",
      " [1 0 1 0 1 0 0 1 0 1 0 1 0 1 0 1]\n",
      " [0 1 0 1 0 1 0 0 1 0 1 0 1 1 1 1]\n",
      " [1 0 1 0 1 0 1 0 0 1 0 1 0 0 1 0]\n",
      " [0 1 0 1 0 1 0 1 0 1 0 1 0 1 0 1]\n",
      " [1 0 1 0 1 0 1 0 0 0 0 0 1 0 1 0]\n",
      " [0 1 0 1 0 1 0 1 0 1 1 1 0 1 0 1]\n",
      " [1 0 1 0 1 0 1 1 1 0 1 0 1 0 1 0]\n",
      " [1 0 1 0 0 1 0 1 0 1 0 1 0 1 0 1]\n",
      " [0 1 0 1 1 0 1 0 0 0 1 0 1 0 1 0]\n",
      " [1 0 1 0 0 1 0 1 0 1 0 1 0 1 0 1]\n",
      " [0 1 0 1 0 0 1 0 1 0 1 0 1 0 1 0]\n",
      " [1 0 1 0 1 1 0 1 0 1 0 1 0 1 0 1]]\n"
     ]
    }
   ],
   "source": [
    "print(data_highest[:,:,10])"
   ]
  },
  {
   "cell_type": "markdown",
   "id": "3ebbb70c",
   "metadata": {},
   "source": [
    "maybe the stagmag is extremely sensitive to noise?"
   ]
  }
 ],
 "metadata": {
  "kernelspec": {
   "display_name": "Python 3 (ipykernel)",
   "language": "python",
   "name": "python3"
  },
  "language_info": {
   "codemirror_mode": {
    "name": "ipython",
    "version": 3
   },
   "file_extension": ".py",
   "mimetype": "text/x-python",
   "name": "python",
   "nbconvert_exporter": "python",
   "pygments_lexer": "ipython3",
   "version": "3.9.12"
  }
 },
 "nbformat": 4,
 "nbformat_minor": 5
}
